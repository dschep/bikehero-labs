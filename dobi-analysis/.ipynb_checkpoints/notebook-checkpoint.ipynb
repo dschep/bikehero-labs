{
 "cells": [
  {
   "cell_type": "code",
   "execution_count": 1,
   "metadata": {},
   "outputs": [
    {
     "name": "stdout",
     "output_type": "stream",
     "text": [
      "Requirement already satisfied: records in /home/dschep/.virtualenvs/dobi-analysis-IoBVmdSu/lib/python3.6/site-packages (0.5.2)\n",
      "Requirement already satisfied: boto3 in /home/dschep/.virtualenvs/dobi-analysis-IoBVmdSu/lib/python3.6/site-packages (1.7.10)\n",
      "Requirement already satisfied: psycopg2-binary in /home/dschep/.virtualenvs/dobi-analysis-IoBVmdSu/lib/python3.6/site-packages (2.7.4)\n",
      "Requirement already satisfied: pandas in /home/dschep/.virtualenvs/dobi-analysis-IoBVmdSu/lib/python3.6/site-packages (0.22.0)\n",
      "Requirement already satisfied: tablib in /home/dschep/.virtualenvs/dobi-analysis-IoBVmdSu/lib/python3.6/site-packages (from records) (0.12.1)\n",
      "Requirement already satisfied: docopt in /home/dschep/.virtualenvs/dobi-analysis-IoBVmdSu/lib/python3.6/site-packages (from records) (0.6.2)\n",
      "Requirement already satisfied: SQLAlchemy in /home/dschep/.virtualenvs/dobi-analysis-IoBVmdSu/lib/python3.6/site-packages (from records) (1.2.7)\n",
      "Requirement already satisfied: botocore<1.11.0,>=1.10.10 in /home/dschep/.virtualenvs/dobi-analysis-IoBVmdSu/lib/python3.6/site-packages (from boto3) (1.10.10)\n",
      "Requirement already satisfied: jmespath<1.0.0,>=0.7.1 in /home/dschep/.virtualenvs/dobi-analysis-IoBVmdSu/lib/python3.6/site-packages (from boto3) (0.9.3)\n",
      "Requirement already satisfied: s3transfer<0.2.0,>=0.1.10 in /home/dschep/.virtualenvs/dobi-analysis-IoBVmdSu/lib/python3.6/site-packages (from boto3) (0.1.13)\n",
      "Requirement already satisfied: numpy>=1.9.0 in /home/dschep/.virtualenvs/dobi-analysis-IoBVmdSu/lib/python3.6/site-packages (from pandas) (1.14.2)\n",
      "Requirement already satisfied: pytz>=2011k in /home/dschep/.virtualenvs/dobi-analysis-IoBVmdSu/lib/python3.6/site-packages (from pandas) (2018.4)\n",
      "Requirement already satisfied: python-dateutil>=2 in /home/dschep/.virtualenvs/dobi-analysis-IoBVmdSu/lib/python3.6/site-packages (from pandas) (2.7.2)\n",
      "Requirement already satisfied: openpyxl in /home/dschep/.virtualenvs/dobi-analysis-IoBVmdSu/lib/python3.6/site-packages (from tablib->records) (2.5.3)\n",
      "Requirement already satisfied: xlrd in /home/dschep/.virtualenvs/dobi-analysis-IoBVmdSu/lib/python3.6/site-packages (from tablib->records) (1.1.0)\n",
      "Requirement already satisfied: unicodecsv in /home/dschep/.virtualenvs/dobi-analysis-IoBVmdSu/lib/python3.6/site-packages (from tablib->records) (0.14.1)\n",
      "Requirement already satisfied: odfpy in /home/dschep/.virtualenvs/dobi-analysis-IoBVmdSu/lib/python3.6/site-packages (from tablib->records) (1.3.6)\n",
      "Requirement already satisfied: pyyaml in /home/dschep/.virtualenvs/dobi-analysis-IoBVmdSu/lib/python3.6/site-packages (from tablib->records) (3.12)\n",
      "Requirement already satisfied: xlwt in /home/dschep/.virtualenvs/dobi-analysis-IoBVmdSu/lib/python3.6/site-packages (from tablib->records) (1.3.0)\n",
      "Requirement already satisfied: docutils>=0.10 in /home/dschep/.virtualenvs/dobi-analysis-IoBVmdSu/lib/python3.6/site-packages (from botocore<1.11.0,>=1.10.10->boto3) (0.14)\n",
      "Requirement already satisfied: six>=1.5 in /home/dschep/.virtualenvs/dobi-analysis-IoBVmdSu/lib/python3.6/site-packages (from python-dateutil>=2->pandas) (1.11.0)\n",
      "Requirement already satisfied: jdcal in /home/dschep/.virtualenvs/dobi-analysis-IoBVmdSu/lib/python3.6/site-packages (from openpyxl->tablib->records) (1.4)\n",
      "Requirement already satisfied: et-xmlfile in /home/dschep/.virtualenvs/dobi-analysis-IoBVmdSu/lib/python3.6/site-packages (from openpyxl->tablib->records) (1.0.1)\n"
     ]
    }
   ],
   "source": [
    "!pip install records boto3 psycopg2-binary pandas"
   ]
  },
  {
   "cell_type": "code",
   "execution_count": 2,
   "metadata": {},
   "outputs": [],
   "source": [
    "import boto3\n",
    "import records\n",
    "from matplotlib import style\n",
    "%matplotlib inline\n",
    "style.use('ggplot')"
   ]
  },
  {
   "cell_type": "code",
   "execution_count": 3,
   "metadata": {},
   "outputs": [],
   "source": [
    "db_url = boto3.client('ssm').get_parameter(Name='/bikefinder/dev/db_url', WithDecryption=True)['Parameter']['Value']\n",
    "db = records.Database(db_url)"
   ]
  },
  {
   "cell_type": "code",
   "execution_count": null,
   "metadata": {},
   "outputs": [],
   "source": [
    "# number of bikes in operaton per day per provider\n",
    "bikes_in_service = db.query(\n",
    "    \"\"\"\n",
    "    ( -- number of unique bike_ids per provider (except ofo)\n",
    "      select created::date, provider, count(distinct bike_id) num_bikes\n",
    "      from bike_locations\n",
    "      where provider<>'ofo'\n",
    "      group by provider, created::date\n",
    "    )\n",
    "    union\n",
    "    ( -- max number of ofo bikes available through out the day\n",
    "      with ofo as (select * from bike_locations where provider='ofo'),\n",
    "        counts_per_batch as (select count(bike_id), bike_id, created::date from ofo\n",
    "                             group by bike_id, created::date)\n",
    "      select created, 'ofo' provider, max(\"count\") num_bikes\n",
    "      from counts_per_batch\n",
    "      group by created\n",
    "    )\n",
    "    order by created, provider;\n",
    "    \"\"\").export('df')\n",
    "bikes_in_service = bikes_in_service.pivot(index='created', columns='provider', values='num_bikes')"
   ]
  },
  {
   "cell_type": "code",
   "execution_count": null,
   "metadata": {},
   "outputs": [],
   "source": [
    "bikes_in_service"
   ]
  },
  {
   "cell_type": "code",
   "execution_count": null,
   "metadata": {},
   "outputs": [],
   "source": [
    "plt = bikes_in_service.plot()\n",
    "plt.get_lines()[0].set_color('red')\n",
    "plt.get_legend().get_lines()[0].set_color('red')\n",
    "plt.get_lines()[1].set_color('green')\n",
    "plt.get_legend().get_lines()[1].set_color('green')\n",
    "plt.get_lines()[2].set_color('silver')\n",
    "plt.get_legend().get_lines()[2].set_color('silver')\n",
    "plt.get_lines()[3].set_color('yellow')\n",
    "plt.get_legend().get_lines()[3].set_color('yellow')\n",
    "plt.get_lines()[4].set_color('orange')\n",
    "plt.get_legend().get_lines()[4].set_color('orange')"
   ]
  },
  {
   "cell_type": "code",
   "execution_count": null,
   "metadata": {},
   "outputs": [],
   "source": [
    "# min,avg,max lifetime of bikes per provider (except ofo, of course)\n",
    "db.query(\n",
    "    \"\"\"\n",
    "    with bike_lifetimes as (\n",
    "        select bike_id, provider, max(created) - min(created) age\n",
    "        from bike_locations\n",
    "        where provider<>'ofo'\n",
    "        group by bike_id, provider\n",
    "    )\n",
    "    select provider, min(age), avg(age), max(age)\n",
    "    from bike_lifetimes\n",
    "    group by provider;\n",
    "    \"\"\").export('df')"
   ]
  },
  {
   "cell_type": "code",
   "execution_count": null,
   "metadata": {},
   "outputs": [],
   "source": [
    "db.close()\n",
    "db._engine.dispose()"
   ]
  }
 ],
 "metadata": {
  "kernelspec": {
   "display_name": "Python 3",
   "language": "python",
   "name": "python3"
  },
  "language_info": {
   "codemirror_mode": {
    "name": "ipython",
    "version": 3
   },
   "file_extension": ".py",
   "mimetype": "text/x-python",
   "name": "python",
   "nbconvert_exporter": "python",
   "pygments_lexer": "ipython3",
   "version": "3.6.3"
  }
 },
 "nbformat": 4,
 "nbformat_minor": 2
}
